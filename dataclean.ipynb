{
 "cells": [
  {
   "cell_type": "code",
   "execution_count": 1,
   "metadata": {},
   "outputs": [
    {
     "name": "stdout",
     "output_type": "stream",
     "text": [
      "hi cole\n",
      "(28305, 4)\n",
      "endTime       object\n",
      "artistName    object\n",
      "trackName     object\n",
      "msPlayed       int64\n",
      "dtype: object\n"
     ]
    }
   ],
   "source": [
    "import pandas as pd\n",
    "\n",
    "print('hi cole')\n",
    "\n",
    "df0 = pd.read_json('data/StreamingHistory0.json')\n",
    "df1 = pd.read_json('data/StreamingHistory1.json')\n",
    "df2 = pd.read_json('data/StreamingHistory2.json')\n",
    "\n",
    "df = pd.concat([df0, df1, df2])\n",
    "print(df.shape)\n",
    "print(df.dtypes)"
   ]
  }
 ],
 "metadata": {
  "kernelspec": {
   "display_name": "Python 3.7.3 ('base')",
   "language": "python",
   "name": "python3"
  },
  "language_info": {
   "codemirror_mode": {
    "name": "ipython",
    "version": 3
   },
   "file_extension": ".py",
   "mimetype": "text/x-python",
   "name": "python",
   "nbconvert_exporter": "python",
   "pygments_lexer": "ipython3",
   "version": "3.7.3"
  },
  "orig_nbformat": 4,
  "vscode": {
   "interpreter": {
    "hash": "85d2d8002c068e5ff2f1e6c9f35b0a8cf9ecae8e9535365c2e351c3f3b255566"
   }
  }
 },
 "nbformat": 4,
 "nbformat_minor": 2
}
